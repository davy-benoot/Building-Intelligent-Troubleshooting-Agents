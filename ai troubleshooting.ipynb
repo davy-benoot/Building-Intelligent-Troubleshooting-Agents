{
 "cells": [
  {
   "cell_type": "code",
   "execution_count": 7,
   "id": "e180eae1",
   "metadata": {},
   "outputs": [
    {
     "name": "stderr",
     "output_type": "stream",
     "text": [
      "No model was supplied, defaulted to distilbert/distilbert-base-cased-distilled-squad and revision 564e9b5 (https://huggingface.co/distilbert/distilbert-base-cased-distilled-squad).\n",
      "Using a pipeline without specifying a model name and revision in production is not recommended.\n",
      "Device set to use cuda:0\n"
     ]
    },
    {
     "name": "stdout",
     "output_type": "stream",
     "text": [
      "Have you restarted your router?\n",
      "Please restart your router and check again.\n",
      "We're sorry the issue persists. We'll improve our solution based on your input.\n"
     ]
    }
   ],
   "source": [
    "import json\n",
    "from transformers import pipeline\n",
    "\n",
    "# Load knowledge base\n",
    "with open('troubleshooting_knowledge_base.json', 'r') as f:\n",
    "    knowledge_base = json.load(f)\n",
    "\n",
    "# Initialize a simple NLP model\n",
    "nlp = pipeline('question-answering')\n",
    "\n",
    "# Get user input\n",
    "user_input = input(\"Please describe your problem: \")\n",
    "\n",
    "def diagnose_network_issue():\n",
    "    print(\"Have you restarted your router?\")\n",
    "    response = input(\"Yes/No: \").strip().lower()\n",
    "    if response == \"no\":\n",
    "        print(\"Please restart your router and check again.\")\n",
    "    else:\n",
    "        print(\"Try resetting your network settings or contacting your provider.\")\n",
    "\n",
    "def collect_feedback():\n",
    "    feedback = input(\"Did this solution resolve your issue? (Yes/No): \").strip().lower()\n",
    "    if feedback == \"yes\":\n",
    "        print(\"Great! Your feedback has been recorded.\")\n",
    "    else:\n",
    "        print(\"We're sorry the issue persists. We'll improve our solution based on your input.\")\n",
    "\n",
    "# Trigger diagnostic logic if the issue is related to the network\n",
    "if \"internet\" in user_input.lower():\n",
    "    diagnose_network_issue()\n",
    "else:\n",
    "\n",
    "    # Search knowledge base for a simple text-based match\n",
    "    for issue, details in knowledge_base.items():\n",
    "        if details[\"symptom\"].lower() in user_input.lower():\n",
    "            print(f\"Possible solution: {details['solution']}\")\n",
    "            break\n",
    "    else:\n",
    "        print(\"No matching issue found in the knowledge base.\")\n",
    "\n",
    "# Collect feedback after providing a solution\n",
    "collect_feedback()"
   ]
  },
  {
   "cell_type": "code",
   "execution_count": null,
   "id": "7912fe26",
   "metadata": {},
   "outputs": [],
   "source": []
  }
 ],
 "metadata": {
  "kernelspec": {
   "display_name": "venv (3.12.3)",
   "language": "python",
   "name": "python3"
  },
  "language_info": {
   "codemirror_mode": {
    "name": "ipython",
    "version": 3
   },
   "file_extension": ".py",
   "mimetype": "text/x-python",
   "name": "python",
   "nbconvert_exporter": "python",
   "pygments_lexer": "ipython3",
   "version": "3.12.3"
  }
 },
 "nbformat": 4,
 "nbformat_minor": 5
}
