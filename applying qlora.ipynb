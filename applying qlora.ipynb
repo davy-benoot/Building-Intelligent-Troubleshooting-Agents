{
 "cells": [
  {
   "cell_type": "code",
   "execution_count": null,
   "id": "e1e60cf5",
   "metadata": {},
   "outputs": [],
   "source": [
    "from transformers import GPT2ForSequenceClassification\n",
    "from qlora import QuantizeModel, LoRALayer\n",
    "\n",
    "# Load the pre-trained GPT-2 model\n",
    "model = GPT2ForSequenceClassification.from_pretrained('gpt2')\n",
    "\n",
    "# Quantize the model\n",
    "quantized_model = QuantizeModel(model, bits=8)\n",
    "\n",
    "# Apply LoRA to specific layers (e.g., attention layers)\n",
    "for name, module in quantized_model.named_modules():\n",
    "    if 'attention' in name:\n",
    "        module.apply(LoRALayer)"
   ]
  },
  {
   "cell_type": "code",
   "execution_count": null,
   "id": "df2bf9ca",
   "metadata": {},
   "outputs": [],
   "source": [
    "from transformers import Trainer, TrainingArguments\n",
    "\n",
    "# Set up training arguments\n",
    "training_args = TrainingArguments(\n",
    "    output_dir='./results',\n",
    "    num_train_epochs=3,\n",
    "    per_device_train_batch_size=16,\n",
    "    evaluation_strategy=\"epoch\",\n",
    ")\n",
    "\n",
    "# Fine-tune the QLoRA-enhanced model\n",
    "trainer = Trainer(\n",
    "    model=quantized_model,\n",
    "    args=training_args,\n",
    "    train_dataset=train_data,\n",
    "    eval_dataset=val_data,\n",
    ")\n",
    "\n",
    "# Train the model\n",
    "trainer.train()"
   ]
  },
  {
   "cell_type": "code",
   "execution_count": null,
   "id": "ab018591",
   "metadata": {},
   "outputs": [],
   "source": [
    "# Evaluate the model on the test set\n",
    "results = trainer.evaluate(eval_dataset=test_data)\n",
    "print(f\"Test Accuracy: {results['eval_accuracy']}\")"
   ]
  },
  {
   "cell_type": "code",
   "execution_count": null,
   "id": "dd0047bc",
   "metadata": {},
   "outputs": [],
   "source": [
    "from qlora import adjust_qlora_rank\n",
    "\n",
    "# Adjust the rank of the low-rank matrices\n",
    "adjust_qlora_rank(quantized_model, rank=4)  # Experiment with different rank values"
   ]
  },
  {
   "cell_type": "markdown",
   "id": "1627e965",
   "metadata": {},
   "source": [
    "## Walkthrough"
   ]
  },
  {
   "cell_type": "code",
   "execution_count": null,
   "id": "4e3ca309",
   "metadata": {},
   "outputs": [],
   "source": [
    "import pandas as pd\n",
    "from sklearn.model_selection import train_test_split\n",
    "\n",
    "# Load dataset\n",
    "data = pd.read_csv('your_dataset.csv')\n",
    "\n",
    "# Split dataset into training, validation, and test sets\n",
    "train_data, temp_data = train_test_split(data, test_size=0.3, random_state=42)\n",
    "val_data, test_data = train_test_split(temp_data, test_size=0.5, random_state=42)\n",
    "\n",
    "print(f\"Training set size: {len(train_data)}\")\n",
    "print(f\"Validation set size: {len(val_data)}\")\n",
    "print(f\"Test set size: {len(test_data)}\")"
   ]
  },
  {
   "cell_type": "code",
   "execution_count": null,
   "id": "4c34a810",
   "metadata": {},
   "outputs": [],
   "source": [
    "from transformers import GPT2ForSequenceClassification\n",
    "from qlora import QuantizeModel, LoRALayer\n",
    "\n",
    "# Load pretrained GPT-2 model\n",
    "model = GPT2ForSequenceClassification.from_pretrained('gpt2')\n",
    "\n",
    "# Quantize the model to reduce memory usage\n",
    "quantized_model = QuantizeModel(model, bits=8)\n",
    "\n",
    "# Apply LoRA to specific layers (e.g., attention layers)\n",
    "for name, module in quantized_model.named_modules():\n",
    "    if 'attention' in name:\n",
    "        module.apply(LoRALayer)\n",
    "\n",
    "# Freeze remaining layers\n",
    "for param in quantized_model.base_model.parameters():\n",
    "    param.requires_grad = False"
   ]
  },
  {
   "cell_type": "code",
   "execution_count": null,
   "id": "4ede74b7",
   "metadata": {},
   "outputs": [],
   "source": [
    "from transformers import Trainer, TrainingArguments\n",
    "\n",
    "# Set up training arguments\n",
    "training_args = TrainingArguments(\n",
    "    output_dir='./results',\n",
    "    num_train_epochs=3,\n",
    "    per_device_train_batch_size=16,\n",
    "    evaluation_strategy=\"epoch\",\n",
    "    logging_dir='./logs',\n",
    ")\n",
    "\n",
    "# Fine-tune the QLoRA-enhanced model\n",
    "trainer = Trainer(\n",
    "    model=quantized_model,\n",
    "    args=training_args,\n",
    "    train_dataset=train_data,\n",
    "    eval_dataset=val_data,\n",
    ")\n",
    "\n",
    "# Train the model\n",
    "trainer.train()"
   ]
  },
  {
   "cell_type": "code",
   "execution_count": null,
   "id": "18c0faf2",
   "metadata": {},
   "outputs": [],
   "source": [
    "# Evaluate the model on the test set\n",
    "results = trainer.evaluate(eval_dataset=test_data)\n",
    "print(f\"Test Accuracy: {results['eval_accuracy']}\")"
   ]
  },
  {
   "cell_type": "code",
   "execution_count": null,
   "id": "aea7b10b",
   "metadata": {},
   "outputs": [],
   "source": [
    "from qlora import adjust_qlora_rank\n",
    "\n",
    "# Adjust the rank of the low-rank matrices\n",
    "adjust_qlora_rank(quantized_model, rank=4)  # You can experiment with different rank values"
   ]
  }
 ],
 "metadata": {
  "language_info": {
   "name": "python"
  }
 },
 "nbformat": 4,
 "nbformat_minor": 5
}
