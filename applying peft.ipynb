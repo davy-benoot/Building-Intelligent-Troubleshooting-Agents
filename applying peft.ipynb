{
 "cells": [
  {
   "cell_type": "code",
   "execution_count": 1,
   "id": "903a6af2",
   "metadata": {},
   "outputs": [
    {
     "name": "stderr",
     "output_type": "stream",
     "text": [
      "2025-08-17 11:53:22.631209: I tensorflow/core/util/port.cc:153] oneDNN custom operations are on. You may see slightly different numerical results due to floating-point round-off errors from different computation orders. To turn them off, set the environment variable `TF_ENABLE_ONEDNN_OPTS=0`.\n",
      "2025-08-17 11:53:22.643170: E external/local_xla/xla/stream_executor/cuda/cuda_fft.cc:467] Unable to register cuFFT factory: Attempting to register factory for plugin cuFFT when one has already been registered\n",
      "WARNING: All log messages before absl::InitializeLog() is called are written to STDERR\n",
      "E0000 00:00:1755424402.656457  375406 cuda_dnn.cc:8579] Unable to register cuDNN factory: Attempting to register factory for plugin cuDNN when one has already been registered\n",
      "E0000 00:00:1755424402.660804  375406 cuda_blas.cc:1407] Unable to register cuBLAS factory: Attempting to register factory for plugin cuBLAS when one has already been registered\n",
      "W0000 00:00:1755424402.671976  375406 computation_placer.cc:177] computation placer already registered. Please check linkage and avoid linking the same target more than once.\n",
      "W0000 00:00:1755424402.671994  375406 computation_placer.cc:177] computation placer already registered. Please check linkage and avoid linking the same target more than once.\n",
      "W0000 00:00:1755424402.671996  375406 computation_placer.cc:177] computation placer already registered. Please check linkage and avoid linking the same target more than once.\n",
      "W0000 00:00:1755424402.671997  375406 computation_placer.cc:177] computation placer already registered. Please check linkage and avoid linking the same target more than once.\n",
      "2025-08-17 11:53:22.675513: I tensorflow/core/platform/cpu_feature_guard.cc:210] This TensorFlow binary is optimized to use available CPU instructions in performance-critical operations.\n",
      "To enable the following instructions: AVX2 AVX_VNNI FMA, in other operations, rebuild TensorFlow with the appropriate compiler flags.\n",
      "Some weights of BertForSequenceClassification were not initialized from the model checkpoint at bert-base-uncased and are newly initialized: ['classifier.bias', 'classifier.weight']\n",
      "You should probably TRAIN this model on a down-stream task to be able to use it for predictions and inference.\n"
     ]
    }
   ],
   "source": [
    "# Load pre-trained BERT model\n",
    "from transformers import BertForSequenceClassification\n",
    "\n",
    "model = BertForSequenceClassification.from_pretrained('bert-base-uncased', num_labels=3)\n",
    "\n",
    "# Step 1: Freeze all layers except the last one (classification head)\n",
    "for param in model.base_model.parameters():\n",
    "    param.requires_grad = False\n",
    "\n",
    "# If you'd like to fine-tune additional layers (e.g., the last 2 layers), you can unfreeze those layers as well\n",
    "for param in model.base_model.encoder.layer[-2:].parameters():\n",
    "    param.requires_grad = True"
   ]
  },
  {
   "cell_type": "code",
   "execution_count": 3,
   "id": "64021790",
   "metadata": {},
   "outputs": [
    {
     "ename": "NameError",
     "evalue": "name 'train_data' is not defined",
     "output_type": "error",
     "traceback": [
      "\u001b[31m---------------------------------------------------------------------------\u001b[39m",
      "\u001b[31mNameError\u001b[39m                                 Traceback (most recent call last)",
      "\u001b[36mCell\u001b[39m\u001b[36m \u001b[39m\u001b[32mIn[3]\u001b[39m\u001b[32m, line 15\u001b[39m\n\u001b[32m      4\u001b[39m training_args = TrainingArguments(\n\u001b[32m      5\u001b[39m     output_dir=\u001b[33m'\u001b[39m\u001b[33m./results\u001b[39m\u001b[33m'\u001b[39m,             \u001b[38;5;66;03m# Directory where results will be stored\u001b[39;00m\n\u001b[32m      6\u001b[39m     num_train_epochs=\u001b[32m3\u001b[39m,                 \u001b[38;5;66;03m# Number of epochs (full passes through the dataset)\u001b[39;00m\n\u001b[32m      7\u001b[39m     per_device_train_batch_size=\u001b[32m16\u001b[39m,     \u001b[38;5;66;03m# Batch size per GPU/CPU during training\u001b[39;00m\n\u001b[32m      8\u001b[39m     eval_strategy=\u001b[33m\"\u001b[39m\u001b[33mepoch\u001b[39m\u001b[33m\"\u001b[39m,        \u001b[38;5;66;03m# Evaluate the model at the end of each epoch\u001b[39;00m\n\u001b[32m      9\u001b[39m )\n\u001b[32m     11\u001b[39m \u001b[38;5;66;03m# Step 2: Fine-tune only the final classification head (since earlier layers were frozen)\u001b[39;00m\n\u001b[32m     12\u001b[39m trainer = Trainer(\n\u001b[32m     13\u001b[39m     model=model,                        \u001b[38;5;66;03m# Pre-trained BERT model with frozen layers\u001b[39;00m\n\u001b[32m     14\u001b[39m     args=training_args,                 \u001b[38;5;66;03m# Training arguments\u001b[39;00m\n\u001b[32m---> \u001b[39m\u001b[32m15\u001b[39m     train_dataset=\u001b[43mtrain_data\u001b[49m,           \u001b[38;5;66;03m# Training data for fine-tuning\u001b[39;00m\n\u001b[32m     16\u001b[39m     eval_dataset=val_data,              \u001b[38;5;66;03m# Validation data to evaluate performance during training\u001b[39;00m\n\u001b[32m     17\u001b[39m )\n\u001b[32m     19\u001b[39m \u001b[38;5;66;03m# Step 3: Train the model using PEFT (this performs PEFT because layers were frozen in Step 1)\u001b[39;00m\n\u001b[32m     20\u001b[39m trainer.train()\n",
      "\u001b[31mNameError\u001b[39m: name 'train_data' is not defined"
     ]
    }
   ],
   "source": [
    "from transformers import Trainer, TrainingArguments\n",
    "\n",
    "# Step 1: Set training arguments for fine-tuning the model\n",
    "training_args = TrainingArguments(\n",
    "    output_dir='./results',             # Directory where results will be stored\n",
    "    num_train_epochs=3,                 # Number of epochs (full passes through the dataset)\n",
    "    per_device_train_batch_size=16,     # Batch size per GPU/CPU during training\n",
    "    eval_strategy=\"epoch\",        # Evaluate the model at the end of each epoch\n",
    ")\n",
    "\n",
    "# Step 2: Fine-tune only the final classification head (since earlier layers were frozen)\n",
    "trainer = Trainer(\n",
    "    model=model,                        # Pre-trained BERT model with frozen layers\n",
    "    args=training_args,                 # Training arguments\n",
    "    train_dataset=train_data,           # Training data for fine-tuning\n",
    "    eval_dataset=val_data,              # Validation data to evaluate performance during training\n",
    ")\n",
    "\n",
    "# Step 3: Train the model using PEFT (this performs PEFT because layers were frozen in Step 1)\n",
    "trainer.train()"
   ]
  },
  {
   "cell_type": "code",
   "execution_count": null,
   "id": "56665a7d",
   "metadata": {},
   "outputs": [],
   "source": [
    "# Evaluate the model\n",
    "results = trainer.evaluate(eval_dataset=test_data)\n",
    "print(f\"Test Accuracy: {results['eval_accuracy']}\")"
   ]
  },
  {
   "cell_type": "code",
   "execution_count": null,
   "id": "7a20d151",
   "metadata": {},
   "outputs": [],
   "source": [
    "# Example of adjusting learning rate for PEFT optimization\n",
    "training_args = TrainingArguments(\n",
    "    output_dir='./results',\n",
    "    learning_rate=5e-5,  # Experiment with different learning rates\n",
    "    num_train_epochs=5,\n",
    "    per_device_train_batch_size=16,\n",
    ")"
   ]
  },
  {
   "cell_type": "markdown",
   "id": "12a0f99f",
   "metadata": {},
   "source": [
    "## Walkthrough PEFT"
   ]
  },
  {
   "cell_type": "code",
   "execution_count": null,
   "id": "edf495c4",
   "metadata": {},
   "outputs": [],
   "source": [
    "import pandas as pd\n",
    "from sklearn.model_selection import train_test_split\n",
    "\n",
    "# Load the dataset\n",
    "data = pd.read_csv('your_dataset.csv')\n",
    "\n",
    "# Split dataset into training (70%), validation (15%), and test (15%)\n",
    "train_data, temp_data = train_test_split(data, test_size=0.3, random_state=42)\n",
    "val_data, test_data = train_test_split(temp_data, test_size=0.5, random_state=42)\n",
    "\n",
    "print(f\"Training set size: {len(train_data)}\")\n",
    "print(f\"Validation set size: {len(val_data)}\")\n",
    "print(f\"Test set size: {len(test_data)}\")"
   ]
  },
  {
   "cell_type": "code",
   "execution_count": null,
   "id": "21be0e31",
   "metadata": {},
   "outputs": [],
   "source": [
    "from transformers import BertForSequenceClassification, Trainer, TrainingArguments\n",
    "\n",
    "# Load pretrained BERT model\n",
    "model = BertForSequenceClassification.from_pretrained('bert-base-uncased', num_labels=3)\n",
    "\n",
    "# Set up training arguments\n",
    "training_args = TrainingArguments(\n",
    "    output_dir='./results',\n",
    "    num_train_epochs=3,\n",
    "    per_device_train_batch_size=16,\n",
    "    evaluation_strategy=\"epoch\",\n",
    "    logging_dir='./logs',\n",
    ")\n",
    "\n",
    "# Fine-tune the model using the Trainer API\n",
    "trainer = Trainer(\n",
    "    model=model,\n",
    "    args=training_args,\n",
    "    train_dataset=train_data,\n",
    "    eval_dataset=val_data,\n",
    ")\n",
    "\n",
    "# Start fine-tuning the model\n",
    "trainer.train()"
   ]
  },
  {
   "cell_type": "code",
   "execution_count": null,
   "id": "e2a0caff",
   "metadata": {},
   "outputs": [],
   "source": [
    "from sklearn.metrics import accuracy_score, f1_score, precision_score, recall_score\n",
    "\n",
    "# Evaluate the model on the test set\n",
    "predictions_output = trainer.predict(test_data)\n",
    "predictions = predictions_output.predictions.argmax(axis=-1) # Assuming a classification task\n",
    "\n",
    "# Compute evaluation metrics\n",
    "accuracy = accuracy_score(test_data['label'], predictions)\n",
    "f1 = f1_score(test_data['label'], predictions, average='weighted')\n",
    "precision = precision_score(test_data['label'], predictions, average='weighted')\n",
    "recall = recall_score(test_data['label'], predictions, average='weighted')\n",
    "\n",
    "print(f\"Test Accuracy: {accuracy}\")\n",
    "print(f\"Test F1 Score: {f1}\")\n",
    "print(f\"Test Precision: {precision}\")\n",
    "print(f\"Test Recall: {recall}\")"
   ]
  },
  {
   "cell_type": "code",
   "execution_count": null,
   "id": "26ada699",
   "metadata": {},
   "outputs": [],
   "source": [
    "# Use hyperparameter search to optimize fine-tuning\n",
    "best_model = trainer.hyperparameter_search(\n",
    "    direction=\"maximize\",\n",
    "    n_trials=10\n",
    ")"
   ]
  }
 ],
 "metadata": {
  "kernelspec": {
   "display_name": "venv (3.12.3)",
   "language": "python",
   "name": "python3"
  },
  "language_info": {
   "codemirror_mode": {
    "name": "ipython",
    "version": 3
   },
   "file_extension": ".py",
   "mimetype": "text/x-python",
   "name": "python",
   "nbconvert_exporter": "python",
   "pygments_lexer": "ipython3",
   "version": "3.12.3"
  }
 },
 "nbformat": 4,
 "nbformat_minor": 5
}
