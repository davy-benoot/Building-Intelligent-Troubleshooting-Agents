{
 "cells": [
  {
   "cell_type": "code",
   "execution_count": null,
   "id": "f1e677f9",
   "metadata": {},
   "outputs": [],
   "source": [
    "from lora import LoRALayer\n",
    "from transformers import BertForSequenceClassification\n",
    "\n",
    "# Load a pre-trained BERT model for classification tasks\n",
    "model = BertForSequenceClassification.from_pretrained('bert-base-uncased', num_labels=3)\n",
    "\n",
    "# Print model layers to identify attention layers where LoRA can be applied\n",
    "for name, module in model.named_modules():\n",
    "    print(name)  # This output helps locate attention layers\n",
    "\n",
    "# Apply LoRA to attention layers\n",
    "for name, module in model.named_modules():\n",
    "    if 'attention' in name:\n",
    "        module.apply(LoRALayer)\n",
    "\n",
    "# Freeze other layers to update only LoRA-modified parameters\n",
    "for param in model.base_model.parameters():\n",
    "    param.requires_grad = False"
   ]
  },
  {
   "cell_type": "code",
   "execution_count": null,
   "id": "6256cdc3",
   "metadata": {},
   "outputs": [],
   "source": [
    "from transformers import Trainer, TrainingArguments\n",
    "\n",
    "# Configure training parameters\n",
    "training_args = TrainingArguments(\n",
    "    output_dir='./results',\n",
    "    num_train_epochs=3,\n",
    "    per_device_train_batch_size=16,\n",
    "    evaluation_strategy=\"epoch\",\n",
    ")\n",
    "\n",
    "# Set up the Trainer to handle fine-tuning\n",
    "trainer = Trainer(\n",
    "    model=model,\n",
    "    args=training_args,\n",
    "    train_dataset=train_data,\n",
    "    eval_dataset=val_data,\n",
    ")\n",
    "\n",
    "# Begin training\n",
    "trainer.train()"
   ]
  },
  {
   "cell_type": "code",
   "execution_count": null,
   "id": "afa0be32",
   "metadata": {},
   "outputs": [],
   "source": [
    "# Evaluate the LoRA fine-tuned model on the test set\n",
    "results = trainer.evaluate(eval_dataset=test_data)\n",
    "print(f\"Test Accuracy: {results['eval_accuracy']}\")"
   ]
  },
  {
   "cell_type": "code",
   "execution_count": null,
   "id": "5d503d8b",
   "metadata": {},
   "outputs": [],
   "source": [
    "# Example of adjusting the rank in LoRA\n",
    "from lora import adjust_lora_rank\n",
    "\n",
    "# Set a lower rank for fine-tuning, experiment with values for optimal performance\n",
    "adjust_lora_rank(model, rank=2)"
   ]
  },
  {
   "cell_type": "markdown",
   "id": "2854d78b",
   "metadata": {},
   "source": [
    "## Walkthrough"
   ]
  },
  {
   "cell_type": "code",
   "execution_count": null,
   "id": "3e87e047",
   "metadata": {},
   "outputs": [],
   "source": [
    "from lora import LoRALayer\n",
    "from transformers import BertForSequenceClassification\n",
    "\n",
    "# Load a pretrained BERT model\n",
    "model = BertForSequenceClassification.from_pretrained('bert-base-uncased', num_labels=3)\n",
    "\n",
    "# Apply LoRA to specific layers (e.g., attention layers)\n",
    "for name, module in model.named_modules():\n",
    "    if 'attention' in name:\n",
    "        module.apply(LoRALayer)\n",
    "\n",
    "# Freeze the rest of the model\n",
    "for param in model.base_model.parameters():\n",
    "    param.requires_grad = False"
   ]
  },
  {
   "cell_type": "code",
   "execution_count": null,
   "id": "203d4173",
   "metadata": {},
   "outputs": [],
   "source": [
    "from transformers import Trainer, TrainingArguments\n",
    "\n",
    "# Set up training arguments\n",
    "training_args = TrainingArguments(\n",
    "    output_dir='./results',\n",
    "    num_train_epochs=3,\n",
    "    per_device_train_batch_size=16,\n",
    "    evaluation_strategy=\"epoch\",\n",
    "    logging_dir='./logs',\n",
    ")\n",
    "\n",
    "# Initialize Trainer for fine-tuning\n",
    "trainer = Trainer(\n",
    "    model=model,\n",
    "    args=training_args,\n",
    "    train_dataset=train_data,\n",
    "    eval_dataset=val_data,\n",
    ")\n",
    "\n",
    "# Start fine-tuning the model\n",
    "trainer.train()"
   ]
  },
  {
   "cell_type": "code",
   "execution_count": null,
   "id": "6bb4d90f",
   "metadata": {},
   "outputs": [],
   "source": [
    "from sklearn.metrics import precision_score, recall_score, f1_score\n",
    "\n",
    "# Evaluate the model on the test set\n",
    "results = trainer.evaluate(eval_dataset=test_data)\n",
    "\n",
    "# Extract predictions and true labels\n",
    "predictions = trainer.predict(test_data).predictions.argmax(-1)\n",
    "true_labels = test_data['label']\n",
    "\n",
    "# Calculate accuracy, precision, recall, and F1 score\n",
    "accuracy = results['eval_accuracy']\n",
    "precision = precision_score(true_labels, predictions, average='weighted')\n",
    "recall = recall_score(true_labels, predictions, average='weighted')\n",
    "f1 = f1_score(true_labels, predictions, average='weighted')\n",
    "\n",
    "# Print all evaluation metrics\n",
    "print(f\"Test Accuracy: {accuracy}\")\n",
    "print(f\"Precision: {precision}\")\n",
    "print(f\"Recall: {recall}\")\n",
    "print(f\"F1 Score: {f1}\")"
   ]
  },
  {
   "cell_type": "code",
   "execution_count": null,
   "id": "9f58b716",
   "metadata": {},
   "outputs": [],
   "source": [
    "from lora import adjust_lora_rank\n",
    "\n",
    "# Adjust the rank for LoRA\n",
    "adjust_lora_rank(model, rank=4)  # Experiment with different rank values\n",
    "\n",
    "# Experiment with additional parameters\n",
    "alpha = 16 # Scaling factor for LoRA\n",
    "dropout_rate = 0.1 # Dropout rate for regularization\n",
    "use_bias = True # Whether to include bias in the model layers\n",
    "\n",
    "# Example of modifying these parameters\n",
    "if hasattr(model.config, 'alpha'):\n",
    "    model.config.alpha = alpha\n",
    "else:\n",
    "    print(\"Warning: model.config does not have attribute 'alpha'\")\n",
    "\n",
    "if hasattr(model.config, 'hidden_dropout_prob'):\n",
    "    model.config.hidden_dropout_prob = dropout_rate\n",
    "else:\n",
    "    print(\"Warning: model.config does not have attribute 'hidden_dropout_prob'\")\n",
    "\n",
    "if hasattr(model.config, 'use_bias'):\n",
    "    model.config.use_bias = use_bias\n",
    "else:\n",
    "    print(\"Warning: model.config does not have attribute 'use_bias'\")\n",
    "\n",
    "print(f\"Alpha: {alpha}\")\n",
    "print(f\"Dropout Rate: {dropout_rate}\")\n",
    "print(f\"Using Bias: {use_bias}\")"
   ]
  }
 ],
 "metadata": {
  "language_info": {
   "name": "python"
  }
 },
 "nbformat": 4,
 "nbformat_minor": 5
}
