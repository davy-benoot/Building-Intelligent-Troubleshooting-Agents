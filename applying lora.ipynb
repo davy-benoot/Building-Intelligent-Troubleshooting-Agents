{
 "cells": [
  {
   "cell_type": "code",
   "execution_count": null,
   "id": "f1e677f9",
   "metadata": {},
   "outputs": [],
   "source": [
    "from lora import LoRALayer\n",
    "from transformers import BertForSequenceClassification\n",
    "\n",
    "# Load a pre-trained BERT model for classification tasks\n",
    "model = BertForSequenceClassification.from_pretrained('bert-base-uncased', num_labels=3)\n",
    "\n",
    "# Print model layers to identify attention layers where LoRA can be applied\n",
    "for name, module in model.named_modules():\n",
    "    print(name)  # This output helps locate attention layers\n",
    "\n",
    "# Apply LoRA to attention layers\n",
    "for name, module in model.named_modules():\n",
    "    if 'attention' in name:\n",
    "        module.apply(LoRALayer)\n",
    "\n",
    "# Freeze other layers to update only LoRA-modified parameters\n",
    "for param in model.base_model.parameters():\n",
    "    param.requires_grad = False"
   ]
  },
  {
   "cell_type": "code",
   "execution_count": null,
   "id": "6256cdc3",
   "metadata": {},
   "outputs": [],
   "source": [
    "from transformers import Trainer, TrainingArguments\n",
    "\n",
    "# Configure training parameters\n",
    "training_args = TrainingArguments(\n",
    "    output_dir='./results',\n",
    "    num_train_epochs=3,\n",
    "    per_device_train_batch_size=16,\n",
    "    evaluation_strategy=\"epoch\",\n",
    ")\n",
    "\n",
    "# Set up the Trainer to handle fine-tuning\n",
    "trainer = Trainer(\n",
    "    model=model,\n",
    "    args=training_args,\n",
    "    train_dataset=train_data,\n",
    "    eval_dataset=val_data,\n",
    ")\n",
    "\n",
    "# Begin training\n",
    "trainer.train()"
   ]
  },
  {
   "cell_type": "code",
   "execution_count": null,
   "id": "afa0be32",
   "metadata": {},
   "outputs": [],
   "source": [
    "# Evaluate the LoRA fine-tuned model on the test set\n",
    "results = trainer.evaluate(eval_dataset=test_data)\n",
    "print(f\"Test Accuracy: {results['eval_accuracy']}\")"
   ]
  },
  {
   "cell_type": "code",
   "execution_count": null,
   "id": "5d503d8b",
   "metadata": {},
   "outputs": [],
   "source": [
    "# Example of adjusting the rank in LoRA\n",
    "from lora import adjust_lora_rank\n",
    "\n",
    "# Set a lower rank for fine-tuning, experiment with values for optimal performance\n",
    "adjust_lora_rank(model, rank=2)"
   ]
  }
 ],
 "metadata": {
  "language_info": {
   "name": "python"
  }
 },
 "nbformat": 4,
 "nbformat_minor": 5
}
